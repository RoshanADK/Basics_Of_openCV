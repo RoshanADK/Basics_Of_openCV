{
 "cells": [
  {
   "cell_type": "raw",
   "metadata": {
    "deletable": true,
    "editable": true
   },
   "source": [
    "This example is mostly done using numpy to perform basic operations on Images like \n",
    "    1) Accessing Pixel values of images\n",
    "    2) Modifying pixel values of images\n",
    "    3) Accessing Image properties\n",
    "    4) Making Borders for Images (Padding)"
   ]
  },
  {
   "cell_type": "markdown",
   "metadata": {
    "deletable": true,
    "editable": true
   },
   "source": [
    "# Accessing and Modifying pixel values"
   ]
  },
  {
   "cell_type": "markdown",
   "metadata": {
    "deletable": true,
    "editable": true
   },
   "source": [
    "### Program to access the pixel values of an image at a particular region"
   ]
  },
  {
   "cell_type": "code",
   "execution_count": 3,
   "metadata": {
    "collapsed": false,
    "deletable": true,
    "editable": true
   },
   "outputs": [
    {
     "name": "stdout",
     "output_type": "stream",
     "text": [
      "The pixel values of the coordinate [100,100] in   ---> [BLUE     GREEN     RED] intensity is --->  [  2   0 254]\n"
     ]
    }
   ],
   "source": [
    "#Step 1: Import the required packages\n",
    "import numpy as np\n",
    "import cv2\n",
    "\n",
    "#Step 2: Load the image\n",
    "img=cv2.imread(\"data/color.jpg\",1)\n",
    "\n",
    "'''You can access a pixel value by its row and column coordinates.\n",
    "For BGR image, it returns an array of Blue, Green, Red values. \n",
    "For grayscale image, just corresponding intensity is returned.'''\n",
    "\n",
    "#Step 3: Access the pixel values and store it in a variable\n",
    "px=img[100,100]\n",
    "\n",
    "# Step 4: Display the pixel values to the user\n",
    "print(\"The pixel values of the coordinate [100,100] in   ---> [BLUE     GREEN     RED] intensity is ---> \",px)"
   ]
  },
  {
   "cell_type": "markdown",
   "metadata": {
    "deletable": true,
    "editable": true
   },
   "source": [
    "### Program to access the blue pixel  values of an image at a particular region"
   ]
  },
  {
   "cell_type": "code",
   "execution_count": 8,
   "metadata": {
    "collapsed": false,
    "deletable": true,
    "editable": true
   },
   "outputs": [
    {
     "name": "stdout",
     "output_type": "stream",
     "text": [
      "This will Print same output as above cell but we are trying to determine specific color intensity here. 012 as BGR index used in img[] method above\n",
      "The blue pixel values of the coordinate [100,100] is  2\n",
      "The green pixel values of the coordinate [100,100] is  0\n",
      "The red pixel values of the coordinate [100,100] is  254\n"
     ]
    }
   ],
   "source": [
    "#Step 1: Import the required packages\n",
    "import numpy as np\n",
    "import cv2\n",
    "\n",
    "#Step 2: Load the image\n",
    "img=cv2.imread(\"data/color.jpg\",1)\n",
    "\n",
    "'''You can access a pixel value by its row and column coordinates.\n",
    "For BGR image, it returns an array of Blue, Green, Red values. \n",
    "For grayscale image, just corresponding intensity is returned.'''\n",
    "\n",
    "#Step 3: Access the pixel values and store it in a variable\n",
    "blue=img[100,100,0]             # FOR BLUE ONLY                # The pixels can be accesses using zero(0) based index\n",
    "green=img[100,100,1]            # FOR GREEN ONLY\n",
    "red=img[100,100,2]              # FOR RED ONLY\n",
    "\n",
    "# Step 4: Display the pixel values to the user\n",
    "print(\"This will Print same output as above cell but we are trying to determine specific color intensity here. 012 as BGR index used in img[] method above\")\n",
    "print(\"The blue pixel values of the coordinate [100,100] is \",blue)\n",
    "print(\"The green pixel values of the coordinate [100,100] is \",green)\n",
    "print(\"The red pixel values of the coordinate [100,100] is \",red)"
   ]
  },
  {
   "cell_type": "markdown",
   "metadata": {
    "deletable": true,
    "editable": true
   },
   "source": [
    "### Program to access and modify pixel values of an image at a particular region¶"
   ]
  },
  {
   "cell_type": "code",
   "execution_count": 10,
   "metadata": {
    "collapsed": false,
    "deletable": true,
    "editable": true
   },
   "outputs": [
    {
     "name": "stdout",
     "output_type": "stream",
     "text": [
      "The  pixel values of the coordinate [100,100] is  [  2   0 254]\n",
      " \n",
      "The modified pixel value at coordinate [100,100] is   [245 100 234]\n"
     ]
    }
   ],
   "source": [
    "#Step 1: Import the required packages\n",
    "import numpy as np\n",
    "import cv2\n",
    "\n",
    "#Step 2: Load the image\n",
    "img=cv2.imread(\"data/color.jpg\",1)\n",
    "\n",
    "'''You can access a pixel value by its row and column coordinates.\n",
    "For BGR image, it returns an array of Blue, Green, Red values. \n",
    "For grayscale image, just corresponding intensity is returned.'''\n",
    "\n",
    "#Step 3: Access the pixel values and store it in a variable\n",
    "px=img[100,100]\n",
    "\n",
    "# Step 4: Display the pixel values to the user\n",
    "print(\"The  pixel values of the coordinate [100,100] is \",px)\n",
    "\n",
    "#Step 5: Modify the pixel values\n",
    "img[100,100]=[245,100,234]\n",
    "\n",
    "#Step 6: Print the modified pixel values\n",
    "print(\" \\nThe modified pixel value at coordinate [100,100] is  \",img[100,100])"
   ]
  },
  {
   "cell_type": "markdown",
   "metadata": {
    "deletable": true,
    "editable": true
   },
   "source": [
    "### Program to access and modify the blue pixel values at a particular region"
   ]
  },
  {
   "cell_type": "code",
   "execution_count": 11,
   "metadata": {
    "collapsed": false,
    "deletable": true,
    "editable": true
   },
   "outputs": [
    {
     "name": "stdout",
     "output_type": "stream",
     "text": [
      "The blue pixel values of the coordinate [100,100] is  2\n",
      " \n",
      "The modified pixel value at coordinate [100,100] is   245\n"
     ]
    }
   ],
   "source": [
    "#Step 1: Import the required packages\n",
    "import numpy as np\n",
    "import cv2\n",
    "\n",
    "#Step 2: Load the image\n",
    "img=cv2.imread(\"data/color.jpg\",1)\n",
    "\n",
    "'''You can access a pixel value by its row and column coordinates.\n",
    "For BGR image, it returns an array of Blue, Green, Red values. \n",
    "For grayscale image, just corresponding intensity is returned.'''\n",
    "\n",
    "#Step 3: Access the pixel values and store it in a variable\n",
    "blue=img.item(100,100,0)\n",
    "\n",
    "# Step 4: Display the pixel values to the user\n",
    "print(\"The blue pixel values of the coordinate [100,100] is \",blue)\n",
    "\n",
    "#Step 5: Modify the pixel values\n",
    "img.itemset((100,100,0),245)\n",
    "\n",
    "#Step 6: Print the modified pixel values\n",
    "print(\" \\nThe modified pixel value at coordinate [100,100] is  \",img[100,100,0])"
   ]
  },
  {
   "cell_type": "markdown",
   "metadata": {
    "deletable": true,
    "editable": true
   },
   "source": [
    "### Program to access and modify the green pixel values at a particular region"
   ]
  },
  {
   "cell_type": "code",
   "execution_count": 12,
   "metadata": {
    "collapsed": false,
    "deletable": true,
    "editable": true
   },
   "outputs": [
    {
     "name": "stdout",
     "output_type": "stream",
     "text": [
      "The green pixel values of the coordinate [100,100] is  0\n",
      " \n",
      "The modified pixel value at coordinate [100,100] is   230\n"
     ]
    }
   ],
   "source": [
    "#Step 1: Import the required packages\n",
    "import numpy as np\n",
    "import cv2\n",
    "\n",
    "#Step 2: Load the image\n",
    "img=cv2.imread(\"data/color.jpg\",1)\n",
    "\n",
    "'''You can access a pixel value by its row and column coordinates.\n",
    "For BGR image, it returns an array of Blue, Green, Red values. \n",
    "For grayscale image, just corresponding intensity is returned.'''\n",
    "\n",
    "#Step 3: Access the pixel values and store it in a variable\n",
    "green=img.item(100,100,1)\n",
    "\n",
    "# Step 4: Display the pixel values to the user\n",
    "print(\"The green pixel values of the coordinate [100,100] is \",green)\n",
    "\n",
    "#Step 5: Modify the pixel values\n",
    "img.itemset((100,100,1),230)\n",
    "\n",
    "#Step 6: Print the modified pixel values\n",
    "print(\" \\nThe modified pixel value at coordinate [100,100] is  \",img[100,100,1])"
   ]
  },
  {
   "cell_type": "markdown",
   "metadata": {
    "deletable": true,
    "editable": true
   },
   "source": [
    "### Program to access and modify the red pixel values at a particular coordinate"
   ]
  },
  {
   "cell_type": "code",
   "execution_count": 13,
   "metadata": {
    "collapsed": false,
    "deletable": true,
    "editable": true
   },
   "outputs": [
    {
     "name": "stdout",
     "output_type": "stream",
     "text": [
      "The green pixel values of the coordinate [100,100] is  254\n",
      " \n",
      "The modified pixel value at coordinate [100,100] is   78\n"
     ]
    }
   ],
   "source": [
    "#Step 1: Import the required packages\n",
    "import numpy as np\n",
    "import cv2\n",
    "\n",
    "#Step 2: Load the image\n",
    "img=cv2.imread(\"data/color.jpg\",1)\n",
    "\n",
    "'''You can access a pixel value by its row and column coordinates.\n",
    "For BGR image, it returns an array of Blue, Green, Red values. \n",
    "For grayscale image, just corresponding intensity is returned.'''\n",
    "\n",
    "#Step 3: Access the pixel values and store it in a variable\n",
    "red=img.item(100,100,2)\n",
    "\n",
    "# Step 4: Display the pixel values to the user\n",
    "print(\"The green pixel values of the coordinate [100,100] is \",red)\n",
    "\n",
    "#Step 5: Modify the pixel values\n",
    "img.itemset((100,100,2),78)\n",
    "\n",
    "#Step 6: Print the modified pixel values\n",
    "print(\" \\nThe modified pixel value at coordinate [100,100] is  \",img[100,100,2])"
   ]
  },
  {
   "cell_type": "markdown",
   "metadata": {
    "deletable": true,
    "editable": true
   },
   "source": [
    "# Accessing Image Properties"
   ]
  },
  {
   "cell_type": "raw",
   "metadata": {
    "deletable": true,
    "editable": true
   },
   "source": [
    "Image properties include:-\n",
    "    1) number of rows \n",
    "    2) number columns \n",
    "    3) channels \n",
    "    4) type of image data\n",
    "    5) number of pixels etc.\n",
    "Note 1 :- Shape of image is accessed by img.shape. It returns a tuple of number of rows, columns and channels (if image is  \n",
    "        color):\n",
    "Note 2 :- If image is grayscale, tuple returned contains only number of rows and columns. \n",
    "        So it is a good method to check if loaded image is grayscale or color image.  \n",
    "Note 3 :- Total number of pixels is accessed by img.size.\n",
    "Note 4 :- Image datatype is accessed by img.dtype\n",
    "Note 5 :- img.dtype is very important while debugging because a large number of errors in OpenCV-Python code is caused by \n",
    "          invalid datatype."
   ]
  },
  {
   "cell_type": "markdown",
   "metadata": {
    "deletable": true,
    "editable": true
   },
   "source": [
    "### Program to access the shape of a colored image."
   ]
  },
  {
   "cell_type": "code",
   "execution_count": 14,
   "metadata": {
    "collapsed": false,
    "deletable": true,
    "editable": true
   },
   "outputs": [
    {
     "name": "stdout",
     "output_type": "stream",
     "text": [
      "The dimension of an image is  (183, 276, 3)\n",
      "The no of rows in an image is  183\n",
      "The no of columns in an image is  276\n",
      "The channels in an image is  3\n"
     ]
    }
   ],
   "source": [
    "# Step 1: Import the reuired packages\n",
    "import cv2\n",
    "import numpy as np\n",
    "\n",
    "# Step 2: Load the image\n",
    "img=cv2.imread(\"data/color.jpg\",1)\n",
    "\n",
    "# Access the shape of an image and store it in a variable\n",
    "rows,columns,channels=img.shape              # returns 3 value rows,columns and channels (Colored or Grayscale)\n",
    "dimension=img.shape                                   # Stores same thing as previuos statement but stored as a tuple dimension()\n",
    "\n",
    "# Print the image dimension\n",
    "print(\"The dimension of an image is \",dimension)\n",
    "print(\"The no of rows in an image is \", rows)\n",
    "print(\"The no of columns in an image is \",columns)\n",
    "print(\"The channels in an image is \",channels)"
   ]
  },
  {
   "cell_type": "markdown",
   "metadata": {
    "deletable": true,
    "editable": true
   },
   "source": [
    "### Program to access the shape of a grayscale image."
   ]
  },
  {
   "cell_type": "code",
   "execution_count": 18,
   "metadata": {
    "collapsed": false,
    "deletable": true,
    "editable": true
   },
   "outputs": [
    {
     "name": "stdout",
     "output_type": "stream",
     "text": [
      "The dimension of an image is  (183, 276)\n",
      "The no of rows in an image is  183\n",
      "The no of columns in an image is  276\n"
     ]
    }
   ],
   "source": [
    "# Step 1: Import the reuired packages\n",
    "import cv2\n",
    "import numpy as np\n",
    "\n",
    "# Step 2: Load the image\n",
    "img=cv2.imread(\"data/color.jpg\",0)\n",
    "\n",
    "# Access the shape of an image and store it in a variable\n",
    "rows,columns=img.shape\n",
    "dimension=img.shape\n",
    "\n",
    "# Print the image dimension\n",
    "print(\"The dimension of an image is \",dimension)\n",
    "print(\"The no of rows in an image is \", rows)\n",
    "print(\"The no of columns in an image is \",columns)\n"
   ]
  },
  {
   "cell_type": "markdown",
   "metadata": {
    "deletable": true,
    "editable": true
   },
   "source": [
    "# Making Borders for Images (Padding)"
   ]
  },
  {
   "cell_type": "raw",
   "metadata": {
    "deletable": true,
    "editable": true
   },
   "source": [
    "If you want to create a border around the image, something like a photo frame, you can use cv2.copyMakeBorder() function.\n",
    "But it has more applications for convolution operation, zero padding etc. This function takes following arguments:\n",
    "\n",
    "    1)src - input image\n",
    "    \n",
    "    2)top, bottom, left, right - border width in number of pixels in corresponding directions\n",
    "    \n",
    "    3)borderType - Flag defining what kind of border to be added. It can be following types:\n",
    "    \n",
    "    4)cv2.BORDER_CONSTANT - Adds a constant colored border. The value should be given as next argument.\n",
    "    \n",
    "    5)cv2.BORDER_REFLECT - Border will be mirror reflection of the border elements, like this : fedcba|abcdefgh|hgfedcb\n",
    "    \n",
    "    6)cv2.BORDER_REFLECT_101 or cv2.BORDER_DEFAULT - Same as above, but with a slight change, like this : \n",
    "        gfedcb|abcdefgh|gfedcba\n",
    "    \n",
    "    7)cv2.BORDER_REPLICATE - Last element is replicated throughout, like this: aaaaaa|abcdefgh|hhhhhhh\n",
    "    \n",
    "    8)cv2.BORDER_WRAP - Can’t explain, it will look like this : cdefgh|abcdefgh|abcdefg\n",
    "    \n",
    "    9)value - Color of border if border type is cv2.BORDER_CONSTANT"
   ]
  },
  {
   "cell_type": "markdown",
   "metadata": {
    "deletable": true,
    "editable": true
   },
   "source": [
    "### Program to display all types of borders"
   ]
  },
  {
   "cell_type": "code",
   "execution_count": 26,
   "metadata": {
    "collapsed": false,
    "deletable": true,
    "editable": true
   },
   "outputs": [
    {
     "data": {
      "image/png": "[encoded data removed]",
      "text/plain": [
       "<matplotlib.figure.Figure at 0x20ff3a1a780>"
      ]
     },
     "metadata": {},
     "output_type": "display_data"
    }
   ],
   "source": [
    "#Step 1:- Import the required packages\n",
    "import cv2\n",
    "import numpy as np\n",
    "from matplotlib import pyplot as plt                      # Used for Plotting images\n",
    "\n",
    "RED = [0,0,255]\n",
    "\n",
    "#Step 2:- Load the image\n",
    "img1 = cv2.imread('data/color.jpg',1)\n",
    "\n",
    "# Step 3:- Make the border of different types by mentioning the arguments in it. \n",
    "replicate = cv2.copyMakeBorder(img1,40,40,40,40,cv2.BORDER_REPLICATE)\n",
    "reflect = cv2.copyMakeBorder(img1,40,40,40,40,cv2.BORDER_REFLECT)\n",
    "reflect101 = cv2.copyMakeBorder(img1,40,40,40,40,cv2.BORDER_REFLECT_101)\n",
    "wrap = cv2.copyMakeBorder(img1,40,40,40,40,cv2.BORDER_WRAP)\n",
    "constant= cv2.copyMakeBorder(img1,40,40,40,40,cv2.BORDER_CONSTANT,value=RED)\n",
    "\n",
    "# Step 4:- Plot all the borders\n",
    "plt.subplot(231),plt.imshow(img1,'gray'),plt.title('ORIGINAL')\n",
    "plt.subplot(232),plt.imshow(replicate,'gray'),plt.title('REPLICATE')\n",
    "plt.subplot(233),plt.imshow(reflect,'gray'),plt.title('REFLECT')\n",
    "plt.subplot(234),plt.imshow(reflect101,'gray'),plt.title('REFLECT_101')\n",
    "plt.subplot(235),plt.imshow(wrap,'gray'),plt.title('WRAP')\n",
    "plt.subplot(236),plt.imshow(constant,'gray'),plt.title('CONSTANT')\n",
    "\n",
    "# THE FINAL SHOWCASE\n",
    "plt.show()"
   ]
  },
  {
   "cell_type": "code",
   "execution_count": null,
   "metadata": {
    "collapsed": true
   },
   "outputs": [],
   "source": []
  }
 ],
 "metadata": {
  "kernelspec": {
   "display_name": "Python 3",
   "language": "python",
   "name": "python3"
  },
  "language_info": {
   "codemirror_mode": {
    "name": "ipython",
    "version": 3
   },
   "file_extension": ".py",
   "mimetype": "text/x-python",
   "name": "python",
   "nbconvert_exporter": "python",
   "pygments_lexer": "ipython3",
   "version": "3.5.2"
  }
 },
 "nbformat": 4,
 "nbformat_minor": 2
}
